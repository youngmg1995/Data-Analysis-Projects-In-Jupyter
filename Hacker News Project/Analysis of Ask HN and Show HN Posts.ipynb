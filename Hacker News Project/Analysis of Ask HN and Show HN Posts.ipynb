{
 "cells": [
  {
   "cell_type": "markdown",
   "metadata": {},
   "source": [
    "# Analysis of Ask HN and Show HN Posts\n",
    "\n",
    "For this project we will be a hypothetical employee of Hacker News. Hacker News is a popular website similar to Reddit where user submitted posts/stories related to technology are voted and commented upon. The topics of these posts are endless and the best of them pull in hundreds of thousands of visitors. However, today our team is only interested in a small subset of the posts on Hacker News. Specifically, we will be looking at posts beginning with \"Ask HN\" and \"Show HN\". The purpose of \"Ask HN\" and \"Show HN\" posts are to ask a particular question and share an interesting project, product, or article with the Hacker News community respectively. What our team would like to know about these posts is summed up in the following questions:\n",
    "\n",
    "    1) Which posts receive more comments on average, \"Ask HN\" or \"Show HN\"?\n",
    "    2) Is the number of comments affected by the time of the post?\n",
    "\n",
    "In the sections that follow we will attempt to answer these questions using our skills of analysis and data manipulation. First we will discuss the dataset we have to work with and clean it. Next we will investigate the data and segment it in ways that provide insights to the questions above. Finally, we will argue our answers to these questions using the insights and evidence found during our analysis. If possible, we will also try to suggest follow-up inquiries and next steps that can be taken by Hacker News to improve its platform.\n",
    "\n",
    "\n",
    "# The Data\n",
    "\n",
    "The dataset we will be using for this analysis can be found [here](https://www.kaggle.com/hacker-news/hacker-news-posts). It was scraped from the Hacker News website and contains posts from the 12 month period ending on September 26, 2016. Below are the fields of the dataset and the sources' descriptions of each:\n",
    "\n",
    "| Field        | Datatype | Description                               |\n",
    "|--------------|----------|-------------------------------------------|\n",
    "| id           | numeric  | Hacker News id for the post               |\n",
    "| title        | string   | Title of the post                         |\n",
    "| url          | string   | Url that the post links to                |\n",
    "| num_points   | numeric  | Number of upvotes that the post received  |\n",
    "| num_comments | numeric  | Number of comments that the post recieved |\n",
    "| author       | string   | User who created the post                 |\n",
    "| created_at   | datetime | Datetime of post creation (D/M/Y H:M)     |\n",
    "\n",
    "Before we begin to analyse the data we will first read it, familiarize ourselves with it, clean it, and filter it.\n",
    "\n",
    "## Importing and Understanding the Data\n",
    "First we are going to need to extract our data from the source file and store it in a more workable format. After doing so, lets print the size of the dataset, the header names, and some example rows to get a feel for the data."
   ]
  },
  {
   "cell_type": "code",
   "execution_count": 1,
   "metadata": {},
   "outputs": [
    {
     "name": "stdout",
     "output_type": "stream",
     "text": [
      "Number of Columns : 7\n",
      "Number of Record  : 293,119 \n",
      "\n",
      "Column Headers \n",
      " ['id', 'title', 'url', 'num_points', 'num_comments', 'author', 'created_at'] \n",
      "\n",
      "Example Records\n",
      "['12579008', 'You have two days to comment if you want stem cells to be classified as your own', 'http://www.regulations.gov/document?D=FDA-2015-D-3719-0018', '1', '0', 'altstar', '9/26/2016 3:26']\n",
      "['12579005', 'SQLAR  the SQLite Archiver', 'https://www.sqlite.org/sqlar/doc/trunk/README.md', '1', '0', 'blacksqr', '9/26/2016 3:24']\n",
      "['12578997', 'What if we just printed a flatscreen television on the side of our boxes?', 'https://medium.com/vanmoof/our-secrets-out-f21c1f03fdc8#.ietxmez43', '1', '0', 'pavel_lishin', '9/26/2016 3:19']\n",
      "['12578989', 'algorithmic music', 'http://cacm.acm.org/magazines/2011/7/109891-algorithmic-composition/fulltext', '1', '0', 'poindontcare', '9/26/2016 3:16']\n",
      "['12578979', 'How the Data Vault Enables the Next-Gen Data Warehouse and Data Lake', 'https://www.talend.com/blog/2016/05/12/talend-and-Â\\x93the-data-vaultÂ\\x94', '1', '0', 'markgainor1', '9/26/2016 3:14']\n"
     ]
    }
   ],
   "source": [
    "# Reading data from csv file and storing it as a list of lists\n",
    "from csv import reader\n",
    "\n",
    "opened_file = open('HN_posts_year_to_Sep_26_2016.csv', encoding = 'utf8')\n",
    "read_file = reader(opened_file)\n",
    "hn = list(read_file)\n",
    "hn_headers, hn = hn[0], hn[1:]\n",
    "\n",
    "# Printing the dataset size, headers, and 5 example rows\n",
    "print('Number of Columns : {:,}'.format(len(hn_headers)))\n",
    "print('Number of Record  : {:,}'.format(len(hn)),'\\n')\n",
    "\n",
    "print('Column Headers','\\n',hn_headers,'\\n')\n",
    "\n",
    "print('Example Records')\n",
    "for record in hn[:5]:\n",
    "    print(record)"
   ]
  },
  {
   "cell_type": "markdown",
   "metadata": {},
   "source": [
    "Our dataset only has 7 columns, but over 293,119 rows. This is a large dataset, but remember that most of these posts will be removed once we filter to the \"Ask HN\" and \"Show HN\" types. To identify these types of posts, we will be using the 'title' column. Additionally, the 'num_comments' and 'created_at' fields will be of importance for answering the questions we posed earlier. Now have a feel for the data and understand what columns are of use, lets begin filtering and cleaning the data.\n",
    "\n",
    "## Data Cleansing\n",
    "It is generally good practice, especially for data scraped off the internet, to first cleanse your data by validating all records are correct and unique. As such, lets first begin our data by removing improperly formatted and duplicate records. To keep it simple, we will consider a properly formatted row to be those with all 7 fields. A duplicate row is when any two or more records have the same id, and if duplicates are found, we will keep the most recent record according to the 'created_at' timestamp."
   ]
  },
  {
   "cell_type": "code",
   "execution_count": 2,
   "metadata": {},
   "outputs": [
    {
     "name": "stdout",
     "output_type": "stream",
     "text": [
      "# of Unformatted HN Posts : 0\n",
      "# of Duplicate HN Posts   : 0\n",
      "# of Remaining Posts      : 293,119\n",
      "# of Posts - Total        : 293,119\n"
     ]
    }
   ],
   "source": [
    "# Checking the length of each record and removing those with less than 7 fields\n",
    "unformatted_hn = []\n",
    "for i in range(len(hn)):\n",
    "    post = hn.pop(0)\n",
    "    if len(post) == 7:\n",
    "        hn.append(post)\n",
    "    else:\n",
    "        unformatted_hn.append(post)\n",
    "        \n",
    "# Identifying duplicate posts by building post dictionary where id is key. Dictionary also stores most recent\n",
    "# timestamp between the duplicates\n",
    "import datetime\n",
    "\n",
    "hn_dictionary = {}\n",
    "for i in range(len(hn)):\n",
    "    post = hn.pop(0)\n",
    "    id = post[0]\n",
    "    created_at = datetime.datetime.strptime(post[-1], '%m/%d/%Y %H:%M')\n",
    "    if id in hn_dictionary:\n",
    "        hn_dictionary[id][1].append(post)\n",
    "        if created_at > hn_dictionary[id][0]:\n",
    "            hn_dictionary[id][0] = created_at\n",
    "    else:\n",
    "        hn_dictionary[id] = [created_at, [post]]\n",
    "\n",
    "# Removing duplicates, but keeping record with most recent timestamp\n",
    "hn_duplicates = []\n",
    "for id in hn_dictionary:\n",
    "    most_recent = hn_dictionary[id][0]\n",
    "    posts = hn_dictionary[id][1]\n",
    "    for post in posts:\n",
    "        created_at = datetime.datetime.strptime(post[-1], '%m/%d/%Y %H:%M')\n",
    "        if created_at == most_recent:\n",
    "            hn.append(post)\n",
    "        else:\n",
    "            hn_duplicates.append(post)\n",
    "\n",
    "# Given the size of our dataset, we will delete hn_dictionary to save memory\n",
    "del hn_dictionary\n",
    "\n",
    "# Print results\n",
    "print('# of Unformatted HN Posts : {:,}'.format(len(unformatted_hn)))\n",
    "print('# of Duplicate HN Posts   : {:,}'.format(len(hn_duplicates)))\n",
    "print('# of Remaining Posts      : {:,}'.format(len(hn)))\n",
    "print('# of Posts - Total        : {:,}'.format(len(unformatted_hn)+len(hn_duplicates)+len(hn)))"
   ]
  },
  {
   "cell_type": "markdown",
   "metadata": {},
   "source": [
    "Much to our liking, our dataset has no unformatted or duplicate records. Moving on with the cleansing process, next we will change the data types for several columns. Since we read the data from a csv file, all the data was stored as text, but as the table descriptions above suggest, several of the columns are not meant to be strings. Converting these fields to numerical data types will make them easier to manipulate as was already suggested in the last section where we converted 'created_at' values to timestamps. Below we will do just that, but store them this time, and also convert the 'num_points' and 'num_comments' values to integers."
   ]
  },
  {
   "cell_type": "code",
   "execution_count": 3,
   "metadata": {},
   "outputs": [
    {
     "name": "stdout",
     "output_type": "stream",
     "text": [
      "Examples Of Rows With Converted Fields\n",
      "['12579008', 'You have two days to comment if you want stem cells to be classified as your own', 'http://www.regulations.gov/document?D=FDA-2015-D-3719-0018', 1, 0, 'altstar', datetime.datetime(2016, 9, 26, 3, 26)]\n",
      "['12579005', 'SQLAR  the SQLite Archiver', 'https://www.sqlite.org/sqlar/doc/trunk/README.md', 1, 0, 'blacksqr', datetime.datetime(2016, 9, 26, 3, 24)]\n",
      "['12578997', 'What if we just printed a flatscreen television on the side of our boxes?', 'https://medium.com/vanmoof/our-secrets-out-f21c1f03fdc8#.ietxmez43', 1, 0, 'pavel_lishin', datetime.datetime(2016, 9, 26, 3, 19)]\n",
      "['12578989', 'algorithmic music', 'http://cacm.acm.org/magazines/2011/7/109891-algorithmic-composition/fulltext', 1, 0, 'poindontcare', datetime.datetime(2016, 9, 26, 3, 16)]\n",
      "['12578979', 'How the Data Vault Enables the Next-Gen Data Warehouse and Data Lake', 'https://www.talend.com/blog/2016/05/12/talend-and-Â\\x93the-data-vaultÂ\\x94', 1, 0, 'markgainor1', datetime.datetime(2016, 9, 26, 3, 14)]\n"
     ]
    }
   ],
   "source": [
    "# Converting created_at values to datetimes and num_points, num_comments values to integers\n",
    "\n",
    "for post in hn:\n",
    "    post[3] = int(post[3])\n",
    "    post[4] = int(post[4])\n",
    "    post[-1] = datetime.datetime.strptime(post[-1], '%m/%d/%Y %H:%M')\n",
    "\n",
    "# Print results\n",
    "print('Examples Of Rows With Converted Fields')\n",
    "for i in range(5):\n",
    "    print(hn[i])"
   ]
  },
  {
   "cell_type": "markdown",
   "metadata": {},
   "source": [
    "Lastly, recall that we are only interested in two types of posts, those beginning with \"Ask HN\" and \"Show HN\". Therefore, lets finish the cleansing process by filtering out any unwanted data. To do so, we will segment all posts that begin with one of these key phrases from those that do not."
   ]
  },
  {
   "cell_type": "code",
   "execution_count": 4,
   "metadata": {},
   "outputs": [
    {
     "name": "stdout",
     "output_type": "stream",
     "text": [
      "# of Ask HN Posts  : 9,139\n",
      "# of Show HN Posts : 10,158\n",
      "# of Other Posts   : 273,822\n",
      "# of Posts - Total : 293,119\n"
     ]
    }
   ],
   "source": [
    "# Segmenting posts that begin with \"Ask HN\" and \"Show HN\" respectively into arrays ask_hn and show_hn.\n",
    "# Segmenting all other posts into array other_hn.\n",
    "\n",
    "ask_hn, show_hn, other_hn = [], [], []\n",
    "for post in hn:\n",
    "    title = post[1]\n",
    "    if title[:6].lower() == 'ask hn':\n",
    "        ask_hn.append(post)\n",
    "    elif title[:7].lower() == 'show hn':\n",
    "        show_hn.append(post)\n",
    "    else:\n",
    "        other_hn.append(post)\n",
    "\n",
    "# Print results\n",
    "print('# of Ask HN Posts  : {:,}'.format(len(ask_hn)))\n",
    "print('# of Show HN Posts : {:,}'.format(len(show_hn)))\n",
    "print('# of Other Posts   : {:,}'.format(len(other_hn)))\n",
    "print('# of Posts - Total : {:,}'.format(len(ask_hn)+len(show_hn)+len(other_hn)))"
   ]
  },
  {
   "cell_type": "markdown",
   "metadata": {},
   "source": [
    "# The Analysis\n",
    "\n",
    "We have now cleansed our data and are left with 9,139 \"Ask HN\" posts and 10,158 \"Show HN\" posts, quite a bit less than the 293,119 we started with. With the relevant data in the format we want, we can now start to answer the questions posed at the beginning of the project.\n",
    "\n",
    "## Ask HN and Show HN: Which Receive More Comments?\n",
    "The fist question we want to answer is if either type of post has more comments on average. Since we already have our data segmented by post type, this should be a simple question to answer. Below we will calculate the average comments per post for each of the \"Ask HN\", \"Show HN\", and \"Other\" posts. For added fun we will visulaize these averages in a bar graph and also build distributions for each."
   ]
  },
  {
   "cell_type": "code",
   "execution_count": 5,
   "metadata": {},
   "outputs": [
    {
     "data": {
      "text/plain": [
       "<Figure size 640x480 with 1 Axes>"
      ]
     },
     "metadata": {},
     "output_type": "display_data"
    },
    {
     "data": {
      "text/plain": [
       "<Figure size 640x480 with 1 Axes>"
      ]
     },
     "metadata": {},
     "output_type": "display_data"
    },
    {
     "data": {
      "text/plain": [
       "<Figure size 640x480 with 1 Axes>"
      ]
     },
     "metadata": {},
     "output_type": "display_data"
    },
    {
     "data": {
      "text/plain": [
       "<Figure size 640x480 with 1 Axes>"
      ]
     },
     "metadata": {},
     "output_type": "display_data"
    },
    {
     "name": "stdout",
     "output_type": "stream",
     "text": [
      "% Ask HN Posts With No Comments   : 24.38%\n",
      "% Show HN Posts With No Comments  : 50.20%\n",
      "% Other HN Posts With No Comments : 75.01%\n"
     ]
    }
   ],
   "source": [
    "# Calculating average comments per post for each type, as well as a few other statistics.\n",
    "import statistics\n",
    "import matplotlib.pyplot as plt\n",
    "import numpy as np\n",
    "\n",
    "ask_hn_comments, show_hn_comments, other_hn_comments = [], [], []\n",
    "# Ask HN\n",
    "for post in ask_hn:\n",
    "    ask_hn_comments.append(post[4])\n",
    "ask_hn_avg_comments = statistics.mean(ask_hn_comments)\n",
    "ask_hn_stdev_comments = statistics.stdev(ask_hn_comments)\n",
    "ask_hn_sterror_comments = ask_hn_stdev_comments / len(ask_hn_comments)**.5\n",
    "# Show HN\n",
    "for post in show_hn:\n",
    "    show_hn_comments.append(post[4])\n",
    "show_hn_avg_comments = statistics.mean(show_hn_comments)\n",
    "show_hn_stdev_comments = statistics.stdev(show_hn_comments)\n",
    "show_hn_sterror_comments = show_hn_stdev_comments / len(show_hn_comments)**.5\n",
    "# Other\n",
    "for post in other_hn:\n",
    "    other_hn_comments.append(post[4])\n",
    "other_hn_avg_comments = statistics.mean(other_hn_comments)\n",
    "other_hn_stdev_comments = statistics.stdev(other_hn_comments)\n",
    "other_hn_sterror_comments = other_hn_stdev_comments / len(other_hn_comments)**.5\n",
    "\n",
    "# Visualizing averages in bar graph\n",
    "average_comments = [ask_hn_avg_comments, show_hn_avg_comments, other_hn_avg_comments]\n",
    "confidence_intervals_95 = [ask_hn_sterror_comments*1.96, show_hn_sterror_comments*1.96, other_hn_sterror_comments*1.96]\n",
    "labels = ['Ask HN', 'Show HN', 'Other']\n",
    "\n",
    "plt.figure(1)\n",
    "plt.bar(labels, average_comments)\n",
    "plt.errorbar(labels, average_comments, yerr = confidence_intervals_95, color = 'r', linestyle = '', marker = 'o', \n",
    "             markersize = 5, capsize = 8, label = '95% Confidence Interval')\n",
    "plt.ylabel('Avg. Comments per Post')\n",
    "plt.title('Average Comments by Post Type')\n",
    "plt.legend()\n",
    "plt.show()\n",
    "\n",
    "# Visualizing distribution of post comments for each type\n",
    "# Removing all posts outside 4 stdev so comments are better visualized (distributions are very skewed)\n",
    "reduced_ask_comments, reduced_show_comments, reduced_other_comments = [], [], []\n",
    "for comments in ask_hn_comments:\n",
    "    if comments <= (ask_hn_avg_comments + ask_hn_stdev_comments*4):\n",
    "        reduced_ask_comments.append(comments)\n",
    "for comments in show_hn_comments:\n",
    "    if comments <= (show_hn_avg_comments + show_hn_stdev_comments*4):\n",
    "        reduced_show_comments.append(comments)\n",
    "for comments in other_hn_comments:\n",
    "    if comments <= (other_hn_avg_comments + other_hn_stdev_comments*4):\n",
    "        reduced_other_comments.append(comments)\n",
    "\n",
    "width = 5\n",
    "plt.figure(2)\n",
    "plt.hist(reduced_ask_comments, facecolor = 'b', \n",
    "         bins = np.arange(0, ask_hn_avg_comments + ask_hn_stdev_comments*4, width))\n",
    "plt.text(100, 5000, '\\u03BC = {0:.2f}, \\u03C3 = {1:.2f}'.format(ask_hn_avg_comments, ask_hn_stdev_comments))\n",
    "plt.xlabel('Comments')\n",
    "plt.ylabel('# of Posts')\n",
    "plt.title('Ask HN Distribution')\n",
    "plt.show()\n",
    "\n",
    "plt.figure(3)\n",
    "plt.hist(reduced_show_comments, facecolor = 'g', \n",
    "         bins = np.arange(0, show_hn_avg_comments + show_hn_stdev_comments*4, width))\n",
    "plt.text(40, 7000, '\\u03BC = {0:.2f}, \\u03C3 = {1:.2f}'.format(show_hn_avg_comments, show_hn_stdev_comments))\n",
    "plt.xlabel('Comments')\n",
    "plt.ylabel('# of Posts')\n",
    "plt.title('Show HN Distribution')\n",
    "plt.show()\n",
    "\n",
    "plt.figure(4)\n",
    "plt.hist(reduced_other_comments, facecolor = 'r', \n",
    "         bins = np.arange(0, other_hn_avg_comments + other_hn_stdev_comments*4, width))\n",
    "plt.text(73, 210000, '\\u03BC = {0:.2f}, \\u03C3 = {1:.2f}'.format(other_hn_avg_comments, other_hn_stdev_comments))\n",
    "plt.xlabel('Comments')\n",
    "plt.ylabel('# of Posts')\n",
    "plt.title('Other HN Distribution')\n",
    "plt.show()\n",
    "\n",
    "# Calculating % of each post type that receives the most comments\n",
    "ask_zeros, show_zeros, other_zeros = 0, 0, 0\n",
    "for comments in ask_hn_comments:\n",
    "    if comments == 0:\n",
    "        ask_zeros += 1\n",
    "ask_zeros = ask_zeros/len(ask_hn_comments)*100\n",
    "for comments in show_hn_comments:\n",
    "    if comments == 0:\n",
    "        show_zeros += 1\n",
    "show_zeros = show_zeros/len(show_hn_comments)*100\n",
    "for comments in other_hn_comments:\n",
    "    if comments == 0:\n",
    "        other_zeros += 1\n",
    "other_zeros = other_zeros/len(other_hn_comments)*100\n",
    "\n",
    "print('% Ask HN Posts With No Comments   : {:.2f}%'.format(ask_zeros))\n",
    "print('% Show HN Posts With No Comments  : {:.2f}%'.format(show_zeros))\n",
    "print('% Other HN Posts With No Comments : {:.2f}%'.format(other_zeros))"
   ]
  },
  {
   "cell_type": "markdown",
   "metadata": {},
   "source": [
    "From the bar graph above, we see that the \"Ask HN\" posts on average receive the most comments at ~10.4 per post. Contrary to expectation, the \"Show HN\" posts actually receive less comments on than other posts, with averages of ~4.9 and ~6.5 respectively. The confidence intervals for these averages do not and are not even close to overlapping, so these results are statistically significant. Even so, we should be cautious to claim this in the general case since our conclusion is only based on a single year's worth of data. With that said, I think the differences are clear enough to assume this is generally the case or at least is likely to be the case in general.\n",
    "\n",
    "Looking at the distributions, we see that for all post types the number of comments are heavily skewed. In all cases, most posts receive little to no comments. However, certain post types are completely ignored more frequently than others. This is clear from the 0 comment %'s printed above, which for example demonstrate that \"Show HN\" posts receive no comments twice as often the \"Ask HN\" posts. This alone might explain why the average is higher for \"Ask HN\" posts. Perhaps, the community is less likely to ignore an \"Ask HN\" post because poeple want to help solve the problem inherently being put forth. On the other hand, \"Show HN\" are just sharing ideas. They lack the sense of urgency that captures peoples attention in the \"Ask HN\" posts. In general though, both \"Ask HN\" and \"Show HN\" posts grab peoples attention better then other arbitrary posts. This is obviously the point of putting these key phrases at the beginning, so we have in a sense confirmed their effectiveness.\n",
    "\n",
    "Given that so many posts have no comments, I'd be interested to see what the averages are for ONLY the posts with comments. Furthermore, this might help us understand why the \"Other HN\" posts have a higher averages than the \"Show HN\" posts, despite the fact that the former has a higher frequency of 0 comments. Below we remove the posts with no comments and create the same visualization."
   ]
  },
  {
   "cell_type": "code",
   "execution_count": 6,
   "metadata": {},
   "outputs": [
    {
     "data": {
      "image/png": "[encoded data removed]",
      "text/plain": [
       "<Figure size 432x288 with 1 Axes>"
      ]
     },
     "metadata": {
      "needs_background": "light"
     },
     "output_type": "display_data"
    },
    {
     "data": {
      "image/png": "[encoded data removed]",
      "text/plain": [
       "<Figure size 432x288 with 1 Axes>"
      ]
     },
     "metadata": {
      "needs_background": "light"
     },
     "output_type": "display_data"
    },
    {
     "data": {
      "image/png": "[encoded data removed]",
      "text/plain": [
       "<Figure size 432x288 with 1 Axes>"
      ]
     },
     "metadata": {
      "needs_background": "light"
     },
     "output_type": "display_data"
    },
    {
     "data": {
      "image/png": "[encoded data removed]",
      "text/plain": [
       "<Figure size 432x288 with 1 Axes>"
      ]
     },
     "metadata": {
      "needs_background": "light"
     },
     "output_type": "display_data"
    }
   ],
   "source": [
    "# Removing any 0 comments\n",
    "# Ask HN\n",
    "ask_hn_comments = [c for c in ask_hn_comments if c != 0]\n",
    "ask_hn_avg_comments = statistics.mean(ask_hn_comments)\n",
    "ask_hn_stdev_comments = statistics.stdev(ask_hn_comments)\n",
    "ask_hn_sterror_comments = ask_hn_stdev_comments / len(ask_hn_comments)**.5\n",
    "# Show HN\n",
    "show_hn_comments = [c for c in show_hn_comments if c != 0]\n",
    "show_hn_avg_comments = statistics.mean(show_hn_comments)\n",
    "show_hn_stdev_comments = statistics.stdev(show_hn_comments)\n",
    "show_hn_sterror_comments = show_hn_stdev_comments / len(show_hn_comments)**.5\n",
    "# Other\n",
    "other_hn_comments = [c for c in other_hn_comments if c != 0]\n",
    "other_hn_avg_comments = statistics.mean(other_hn_comments)\n",
    "other_hn_stdev_comments = statistics.stdev(other_hn_comments)\n",
    "other_hn_sterror_comments = other_hn_stdev_comments / len(other_hn_comments)**.5\n",
    "\n",
    "\n",
    "# Visualizing averages in bar graph\n",
    "average_comments = [ask_hn_avg_comments, show_hn_avg_comments, other_hn_avg_comments]\n",
    "confidence_intervals_95 = [ask_hn_sterror_comments*1.96, show_hn_sterror_comments*1.96, other_hn_sterror_comments*1.96]\n",
    "labels = ['Ask HN', 'Show HN', 'Other']\n",
    "\n",
    "plt.figure(5)\n",
    "plt.bar(labels, average_comments)\n",
    "plt.errorbar(labels, average_comments, yerr = confidence_intervals_95, color = 'r', linestyle = '', marker = 'o', \n",
    "             markersize = 5, capsize = 8, label = '95% Confidence Interval')\n",
    "plt.ylabel('Avg. Comments per Post')\n",
    "plt.title('Average Comments by Post Type')\n",
    "plt.legend()\n",
    "plt.show()\n",
    "\n",
    "# Visualizing distribution of post comments for each type\n",
    "# Removing all posts outside 4 stdev so comments are better visualized (distributions are very skewed)\n",
    "reduced_ask_comments, reduced_show_comments, reduced_other_comments = [], [], []\n",
    "for comments in ask_hn_comments:\n",
    "    if comments <= (ask_hn_avg_comments + ask_hn_stdev_comments*4):\n",
    "        reduced_ask_comments.append(comments)\n",
    "for comments in show_hn_comments:\n",
    "    if comments <= (show_hn_avg_comments + show_hn_stdev_comments*4):\n",
    "        reduced_show_comments.append(comments)\n",
    "for comments in other_hn_comments:\n",
    "    if comments <= (other_hn_avg_comments + other_hn_stdev_comments*4):\n",
    "        reduced_other_comments.append(comments)\n",
    "\n",
    "width = 5\n",
    "plt.figure(6)\n",
    "plt.hist(reduced_ask_comments, facecolor = 'b', \n",
    "         bins = np.arange(0, ask_hn_avg_comments + ask_hn_stdev_comments*4, width))\n",
    "plt.text(110, 3500, '\\u03BC = {0:.2f}, \\u03C3 = {1:.2f}'.format(ask_hn_avg_comments, ask_hn_stdev_comments))\n",
    "plt.xlabel('Comments')\n",
    "plt.ylabel('# of Posts')\n",
    "plt.title('Ask HN Distribution')\n",
    "plt.show()\n",
    "\n",
    "plt.figure(7)\n",
    "plt.hist(reduced_show_comments, facecolor = 'g', \n",
    "         bins = np.arange(0, show_hn_avg_comments + show_hn_stdev_comments*4, width))\n",
    "plt.text(50, 3000, '\\u03BC = {0:.2f}, \\u03C3 = {1:.2f}'.format(show_hn_avg_comments, show_hn_stdev_comments))\n",
    "plt.xlabel('Comments')\n",
    "plt.ylabel('# of Posts')\n",
    "plt.title('Show HN Distribution')\n",
    "plt.show()\n",
    "\n",
    "plt.figure(8)\n",
    "plt.hist(reduced_other_comments, facecolor = 'r', \n",
    "         bins = np.arange(0, other_hn_avg_comments + other_hn_stdev_comments*4, width))\n",
    "plt.text(125, 35000, '\\u03BC = {0:.2f}, \\u03C3 = {1:.2f}'.format(other_hn_avg_comments, other_hn_stdev_comments))\n",
    "plt.xlabel('Comments')\n",
    "plt.ylabel('# of Posts')\n",
    "plt.title('Other HN Distribution')\n",
    "plt.show()"
   ]
  },
  {
   "cell_type": "markdown",
   "metadata": {},
   "source": [
    "Removeing the posts with zero comments significantly changes the averages with relation to each post type. Given the post has comments, it is clear that on average the other posts get the most comments. It has an average ~25.8 which is almost double and triple the averages for the \"Ask HN\" and \"Show HN\" posts respectively. Looking at it's distribution, we see this is because of how skewed these comments are. Most posts have few comments, even with the 0's removed, but some posts have an extremely high number of comments. This is also the case for the \"Ask HN\" and \"Show HN\" posts, but to a lesser extent. \n",
    "\n",
    "Another distinction we should point out is that the \"Ask HN\" average is still higher than the \"Show HN\" average even with the 0 comments removed. This should not have been the case if they generally receive the same activity once commented upon, since the \"Ask HN\" posts had a much higher frequency of 0's. As such, we must conclude that the \"Ask HN\" posts are generally more interesting or at least insight more conversation than the \"Show HN\" posts. This is suprising, since the very nature of the \"Show HN\" posts is that someone finds it interesting and wants to share it. Perhaps this demonstrates that people tend to like different things, and instead of talking about them they prefer to argue over the correct answer/solution to someone else's problem.\n",
    "\n",
    "## Post Time: Do Certain Hours Draw More Comments?\n",
    "We have answered our first question and learned that in fact certain posts receive more comments. Moving on to our next question, we would like to know if posts submitted at particular times of the day also receive more comments. To answer this question we will use similar methods as in the last section. Namely, we will further segment the data for each post type by hour of the day and calculate the average for each period."
   ]
  },
  {
   "cell_type": "code",
   "execution_count": 7,
   "metadata": {},
   "outputs": [
    {
     "data": {
      "image/png": "[encoded data removed]",
      "text/plain": [
       "<Figure size 432x288 with 1 Axes>"
      ]
     },
     "metadata": {
      "needs_background": "light"
     },
     "output_type": "display_data"
    },
    {
     "data": {
      "image/png": "[encoded data removed]",
      "text/plain": [
       "<Figure size 432x288 with 1 Axes>"
      ]
     },
     "metadata": {
      "needs_background": "light"
     },
     "output_type": "display_data"
    },
    {
     "data": {
      "image/png": "[encoded data removed]",
      "text/plain": [
       "<Figure size 432x288 with 1 Axes>"
      ]
     },
     "metadata": {
      "needs_background": "light"
     },
     "output_type": "display_data"
    }
   ],
   "source": [
    "# Calculating average comments for each hour of day for Ask HN, Show HN, and Other HN posts\n",
    "# To do so, looping over datasets and storing comments in dictionary where keys are the hour of day\n",
    "\n",
    "ask_hn_hours, show_hn_hours, other_hn_hours = {}, {}, {}\n",
    "ask_hn_hours_avg, show_hn_hours_avg, other_hn_hours_avg = {}, {}, {}\n",
    "ask_hn_hours_stdev, show_hn_hours_stdev, other_hn_hours_stdev = {}, {}, {}\n",
    "ask_hn_hours_sterror, show_hn_hours_sterror, other_hn_hours_sterror = {}, {}, {}\n",
    "# Ask HN\n",
    "for post in ask_hn:\n",
    "    hour = post[-1].hour\n",
    "    comments = post[4]\n",
    "    try:\n",
    "        ask_hn_hours[hour].append(comments)\n",
    "    except KeyError:\n",
    "        ask_hn_hours[hour] = [comments]\n",
    "for hour in ask_hn_hours:\n",
    "    ask_hn_hours_avg[hour] = statistics.mean(ask_hn_hours[hour])\n",
    "    ask_hn_hours_stdev[hour] = statistics.stdev(ask_hn_hours[hour])\n",
    "    ask_hn_hours_sterror[hour] = ask_hn_hours_stdev[hour] / len(ask_hn_hours[hour])**.5\n",
    "    \n",
    "# Show HN\n",
    "for post in show_hn:\n",
    "    hour = post[-1].hour\n",
    "    comments = post[4]\n",
    "    try:\n",
    "        show_hn_hours[hour].append(comments)\n",
    "    except KeyError:\n",
    "        show_hn_hours[hour] = [comments]\n",
    "for hour in show_hn_hours:\n",
    "    show_hn_hours_avg[hour] = statistics.mean(show_hn_hours[hour])\n",
    "    show_hn_hours_stdev[hour] = statistics.stdev(show_hn_hours[hour])\n",
    "    show_hn_hours_sterror[hour] = show_hn_hours_stdev[hour] / len(show_hn_hours[hour])**.5\n",
    "    \n",
    "# Other HN\n",
    "for post in other_hn:\n",
    "    hour = post[-1].hour\n",
    "    comments = post[4]\n",
    "    try:\n",
    "        other_hn_hours[hour].append(comments)\n",
    "    except KeyError:\n",
    "        other_hn_hours[hour] = [comments]\n",
    "for hour in other_hn_hours:\n",
    "    other_hn_hours_avg[hour] = statistics.mean(other_hn_hours[hour])\n",
    "    other_hn_hours_stdev[hour] = statistics.stdev(other_hn_hours[hour])\n",
    "    other_hn_hours_sterror[hour] = other_hn_hours_stdev[hour] / len(other_hn_hours[hour])**.5\n",
    "    \n",
    "    \n",
    "### Visualizing averages using bar graphs\n",
    "\n",
    "# Ask HN\n",
    "hours = sorted(ask_hn_hours_avg.keys())\n",
    "average_comments = [ask_hn_hours_avg[hour] for hour in hours]\n",
    "confidence_intervals_95 = [ask_hn_hours_sterror[hour]*1.96 for hour in hours]\n",
    "plt.figure(9)\n",
    "plt.bar(hours, average_comments, color = 'b')\n",
    "plt.errorbar(hours, average_comments, yerr = confidence_intervals_95, color = 'k', linestyle = '', marker = 'o', \n",
    "             markersize = 3, capsize =5, label = '95% Confidence Interval')\n",
    "plt.xlabel('Hour of Day')\n",
    "plt.ylabel('Avg. Comments per Post')\n",
    "plt.title('Ask HN: Average Comments by Hour of Day')\n",
    "plt.legend()\n",
    "plt.show()\n",
    "\n",
    "# Show HN\n",
    "hours = sorted(show_hn_hours_avg.keys())\n",
    "average_comments = [show_hn_hours_avg[hour] for hour in hours]\n",
    "confidence_intervals_95 = [show_hn_hours_sterror[hour]*1.96 for hour in hours]\n",
    "plt.figure(10)\n",
    "plt.bar(hours, average_comments, color = 'g')\n",
    "plt.errorbar(hours, average_comments, yerr = confidence_intervals_95, color = 'k', linestyle = '', marker = 'o', \n",
    "             markersize = 3, capsize =5, label = '95% Confidence Interval')\n",
    "plt.xlabel('Hour of Day')\n",
    "plt.ylabel('Avg. Comments per Post')\n",
    "plt.title('Show HN: Average Comments by Hour of Day')\n",
    "plt.legend()\n",
    "plt.show()\n",
    "\n",
    "# Other HN\n",
    "hours = sorted(other_hn_hours_avg.keys())\n",
    "average_comments = [other_hn_hours_avg[hour] for hour in hours]\n",
    "confidence_intervals_95 = [other_hn_hours_sterror[hour]*1.96 for hour in hours]\n",
    "plt.figure(12)\n",
    "plt.bar(hours, average_comments, color = 'r')\n",
    "plt.errorbar(hours, average_comments, yerr = confidence_intervals_95, color = 'k', linestyle = '', marker = 'o', \n",
    "             markersize = 3, capsize =5, label = '95% Confidence Interval')\n",
    "plt.xlabel('Hour of Day')\n",
    "plt.ylabel('Avg. Comments per Post')\n",
    "plt.ylim(0,10)\n",
    "plt.title('Other HN: Average Comments by Hour of Day')\n",
    "plt.legend()\n",
    "plt.show()"
   ]
  },
  {
   "cell_type": "markdown",
   "metadata": {},
   "source": [
    "Above we created some bar graphs with 95% confidence intervals to better visualize the average comments per post for any given hour of the day. Overall, it isn't clear if any time of the day makes the posts more likely attract comments. For each post type the averages are relatively flat throughout the day, especially for \"Other HN\" posts. Furthermore, in all cases the confidence intervals overlap. This means none of the averages are significantly high enough that we could claim it to be the best hour of the day. \n",
    "\n",
    "With that said, there are still some patterns worth pointing out. Firstly, there is one particular hour, 15 = 3:00pm - 3:59pm, in the \"Ask HN\" graph that stands out. The average comments for this hour is more than double most other hours. Moreover, its confidence interval does not intersect with any other hours except 13. In other words, \"Ask HN\" posts submitted during this hour do receive significantly more comments than most other times of the day. Statistically speaking however, we cannot claim it to be the best hour of the day because the hour of 13 = 1:00pm - 1:59pm also has a high average. In fact, it is seems like posts from the hours of 10 - 15 generally have more comments across each post type. This is around the middle of the day, so it might be useful in further analysis to test the claim by finding the averages for each part of the day: morning = 0-7, midday = 8-15, evening = 16-23.\n",
    "\n",
    "# Final Remarks\n",
    "\n",
    "Over the course of this project we analyzed a data set of Hacker News posts for the purposes of answering the following questions: 1) Which posts receive more comments on average, \"Ask HN\" or \"Show HN\"?, 2) Is the number of comments affected by the time of the post?. Before attempting to answer these questions we first cleansed our dataset by removing incorrect data, properly formatting each field, and filtering to the records of interest. After doing so we approached each question put forth by segmenting our data and calculating statistics for the number of comments per post for each segment. Specifically, we first calculated the average and distribution of comments per post for each of the three post types: \"Ask HN\", \"Show HN\", and \"Other HN\". Next we took this a step further by calculating the averages for each type for each hour of the day. What we found was that \"Ask HN\" posts receive the most comments on average and this might also be true for certain hours of the day. \n",
    "\n",
    "The average comments for \"Ask HN\" posts was found to be ~10.4, significantly higher and outside the confidence intervals of the other averages, \"Show HN\": ~4.9 and \"Other HN\": ~6.5. Part of the reason for this was because \"Ask HN\" posts were the least likely to receive no comments. However, even with the 0 comment posts removed the \"Ask HN\" average was higher \"Show HN\"'s. Therefore, we must conclude that the \"Ask HN\" posts generally are better than the \"Show HN\" posts at both grabbing th attention of a browsing user and keeping it. Further anlaysis should be done to determine qualitatively why this is the case. One reason we might suggest is that the Hacker News communicating is generally more interested in helping with other peoples problems and arguing over the solutions vs. talking about topics others suggest. Lastly, we would also like to point out that the \"Other HN\" posts by far have the highest average comments per post after removing zero-comment posts. This might suggests that there are many other kinds of posts that people find interesting. Hacker News might find it rewarding to come up with a new post category and keyword that makes these stand out like the \"Ask HN\" and \"Show HN\" posts.\n",
    "\n",
    "For the hour by day segment our results were not as conclusive. Partialy due to the small sample sizes, were not able to determine with certainty which hour of the day attracts the most comments. For the most part the average comments were generally flat through out the day, though it seemed to us that the midday hours might be higher. Moreover, the \"Ask HN\" posts were significantly higher for the midday hour of 3:00pm - 3:59pm. This was not statistically the best hour, but it was clearly higher than all but one other time of the day, so we believe it to be significant. Further work should be done using larger samples of \"Ask HN\" posts to confirm if this is the case. Additionally, we think it might be valuable to further analyze the problem by segmenting the day into 3 parts, morning, midday, and evening, to see which posts of the day attract more comments."
   ]
  }
 ],
 "metadata": {
  "kernelspec": {
   "display_name": "Python 3",
   "language": "python",
   "name": "python3"
  },
  "language_info": {
   "codemirror_mode": {
    "name": "ipython",
    "version": 3
   },
   "file_extension": ".py",
   "mimetype": "text/x-python",
   "name": "python",
   "nbconvert_exporter": "python",
   "pygments_lexer": "ipython3",
   "version": "3.6.8"
  }
 },
 "nbformat": 4,
 "nbformat_minor": 2
}
